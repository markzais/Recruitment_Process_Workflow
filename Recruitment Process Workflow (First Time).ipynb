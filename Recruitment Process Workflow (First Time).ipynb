{
 "cells": [
  {
   "cell_type": "markdown",
   "id": "f5a94286",
   "metadata": {},
   "source": [
    "## Recruitment Process Workflow (First Time)"
   ]
  },
  {
   "cell_type": "markdown",
   "id": "88f26b4a",
   "metadata": {},
   "source": [
    "This code is used to process data dowloaded from iCIMS and prepare it for Power BI reporting."
   ]
  },
  {
   "cell_type": "markdown",
   "id": "3cee2c53",
   "metadata": {},
   "source": [
    "**Step 1:** We import  the data that we downloaded from iCIMS "
   ]
  },
  {
   "cell_type": "code",
   "execution_count": 4,
   "id": "a4b326e4",
   "metadata": {},
   "outputs": [],
   "source": [
    "import pandas as pd\n",
    "import numpy as np \n",
    "\n",
    "# Load the data\n",
    "data = pd.read_csv('Recruitment_Data.csv', encoding='ISO-8859-1')"
   ]
  },
  {
   "cell_type": "markdown",
   "id": "2127ab8c",
   "metadata": {},
   "source": [
    "**Step 2:** We convert date/times to dates only; then create a new column for *Application Year*"
   ]
  },
  {
   "cell_type": "code",
   "execution_count": 5,
   "id": "f37e4042",
   "metadata": {},
   "outputs": [
    {
     "name": "stdout",
     "output_type": "stream",
     "text": [
      "object\n"
     ]
    }
   ],
   "source": [
    "print(data['Application Date'].dtype)"
   ]
  },
  {
   "cell_type": "code",
   "execution_count": 6,
   "id": "0e6f1822",
   "metadata": {},
   "outputs": [],
   "source": [
    "# Identify columns that have dates and times and convert to just dates\n",
    "for column in data.columns:\n",
    "    if column != 'StatusID': # Skip the StatusID column (it is an integer)\n",
    "        try:\n",
    "            # Attempt to convert the column to datetime\n",
    "            temp = pd.to_datetime(data[column])\n",
    "            # If successful, and no errors are raised, convert to just date\n",
    "            data[column] = temp.dt.date\n",
    "        except ValueError:\n",
    "            # If error occurs, it means this column cannot be converted to datetime\n",
    "            continue\n",
    "            \n",
    "# Extract the year from 'Application Date' and create a new column 'Application Year'\n",
    "data['Application Year'] = data['Application Date'].apply(lambda x: x.year if pd.notnull(x) else None)"
   ]
  },
  {
   "cell_type": "markdown",
   "id": "cf78de49",
   "metadata": {},
   "source": [
    "**Step 3:** We use StatusIDs to identify \"Closed\" applications."
   ]
  },
  {
   "cell_type": "code",
   "execution_count": 7,
   "id": "40cf725b",
   "metadata": {},
   "outputs": [],
   "source": [
    "## Here is a mapping of the Status with Status IDs\n",
    "#################################################\n",
    "# Decision Pending: 2024, 8769\n",
    "# Hired: 17582\n",
    "# In Review: 2020\n",
    "# Initial DNQ: 2017\n",
    "# Interview Completed: 8768\n",
    "# Interview Requested: 25794\n",
    "# Interview Scheduled: 8767\n",
    "# Interviewed; Not Selected: 2038\n",
    "# Offer Accepted: 2036\n",
    "# Offer Declined/Rejected: 2035\n",
    "# Offer Requested: 2031\n",
    "# Offer Rescinded: 8772\n",
    "# Phone Screen Completed: 8766\n",
    "# Phone Screen Completed; Not Selected: 2026\n",
    "# Phone Screen Scheduled: 8765\n",
    "# Reviewed; Not Selected: 15006, 15007\n",
    "# Self-Withdrew (Portal): 8440\n",
    "# Self-Withdrew (Recruiter): 20186\n",
    "# Submitted to Hiring Manager: 2028\n",
    "\n",
    "# Define the list of StatusIDs that indicate a Closed record\n",
    "closed_status_ids = {17582, 2017, 2038, 2035, 8772, 2026, 15006, 15007, 8440, 20186}\n",
    "\n",
    "\n",
    "# Create a new column 'Record Status' based on whether StatusID is in the closed list, place it after 'StatusID'\n",
    "data.insert(loc=data.columns.get_loc('StatusID') + 1, column='Record Status', \n",
    "            value=data['StatusID'].apply(lambda x: 'Closed' if x in closed_status_ids else 'Active'))"
   ]
  },
  {
   "cell_type": "markdown",
   "id": "05e1c33d",
   "metadata": {},
   "source": [
    "**Step 4:** We create a new column called *Stage*, which converts the *Bin* text to a numbered stage of 2 through 5.\\\n",
    "Note: Stage 1 is initial Application."
   ]
  },
  {
   "cell_type": "code",
   "execution_count": 8,
   "id": "db44f03b",
   "metadata": {},
   "outputs": [],
   "source": [
    "# Define conditions for the 'Stage' column based on 'Bin'\n",
    "conditions = [\n",
    "    (data['Bin'] == 'New Submissions'),\n",
    "    (data['Bin'] == 'HR/ Recruiter Review'),\n",
    "    (data['Bin'] == 'Hiring Manager Review'),\n",
    "    (data['Bin'] == 'Offer'),\n",
    "    (data['Bin'] == 'Hired')\n",
    "]\n",
    "# Define the corresponding stage values\n",
    "choices = [1, 2, 3, 4, 5]\n",
    "\n",
    "# Create the 'Stage' column with default value 99\n",
    "data['Stage'] = 99\n",
    "\n",
    "# Apply conditions and choices to the 'Stage' column\n",
    "data.loc[:, 'Stage'] = np.select(conditions, choices, default=99)\n",
    "\n",
    "# Insert the 'Stage' column right after the 'Bin' column\n",
    "data.insert(loc=data.columns.get_loc('Bin') + 1, column='Stage', value=data.pop('Stage'))"
   ]
  },
  {
   "cell_type": "markdown",
   "id": "92b3a7f2",
   "metadata": {},
   "source": [
    "**Step 5:** We create a new column called *Last Action*. Look through all closed applications, finds the latest date, and identify the name of that column.\n",
    "Then map those column name to the appropriate stage of the process.\\\n",
    "What phase was the application in when it was closed? "
   ]
  },
  {
   "cell_type": "code",
   "execution_count": 9,
   "id": "f7bf3578",
   "metadata": {},
   "outputs": [],
   "source": [
    "# Define a function to find the last action based on the dates in each row, ignoring 'First Candidate Withdrew' for the latest date\n",
    "def find_last_action(row):\n",
    "    if row['Record Status'] == 'Active':\n",
    "        return ''  # Leave blank for Active records\n",
    "    elif row['Record Status'] == 'Closed':\n",
    "        # Get the latest date and the corresponding column name, excluding 'StatusID' and 'First Candidate Withdrew'\n",
    "        latest_date = None\n",
    "        latest_column = 'Application'  # Default action if no other dates are available\n",
    "        for col in data.columns:\n",
    "            if data[col].dtype == 'object' and col != 'StatusID' and col != 'First Candidate Withdrew':\n",
    "                try:\n",
    "                    date = pd.to_datetime(row[col])\n",
    "                    if not pd.isnull(date) and (latest_date is None or date > latest_date):\n",
    "                        latest_date = date\n",
    "                        latest_column = col\n",
    "                except:\n",
    "                    continue\n",
    "        return latest_column\n",
    "    \n",
    "#Define a funtion to map column names to new descriptions/bins\n",
    "def map_column_names(last_action):\n",
    "   # Define the mapping dictionary\n",
    "    mapping_dict = {\n",
    "        'Application Date': 'Application',\n",
    "        'First Hired: Hired': 'Hired',\n",
    "        'First Hiring Manager Review: Interview Requested': 'Hiring Manager Review',\n",
    "        'First Hiring Manager Review: Interviewed; Not Selected': 'Hiring Manager Review',\n",
    "        'First Hiring Manager Review: Submitted to Hiring Manager': 'Hiring Manager Review',\n",
    "        'First HR/ Recruiter Review': 'HR/Recruiter Review',\n",
    "        'First HR/ Recruiter Review: In Review': 'HR/Recruiter Review',\n",
    "        'First HR/ Recruiter Review: Reviewed; Not Selected': 'HR/Recruiter Review',\n",
    "        'First Offer: Offer Accepted': 'Offer',\n",
    "        'First Offer: Offer Declined/Rejected': 'Offer',\n",
    "        'First Offer: Offer Extended': 'Offer',\n",
    "        'First Offer: Offer Rescinded': 'Offer'\n",
    "    }\n",
    "    # Return the mapped value if it exists, otherwise return the original value\n",
    "    return mapping_dict.get(last_action, last_action)\n",
    "\n",
    "# Apply the function to each row to determine the 'Last Action'\n",
    "data['Last Action'] = data.apply(find_last_action, axis=1)\n",
    "\n",
    "# Apply the function to map the 'Last Action' names to new values\n",
    "data['Last Action'] = data['Last Action'].apply(map_column_names)"
   ]
  },
  {
   "cell_type": "markdown",
   "id": "129a1823",
   "metadata": {},
   "source": [
    "**Step 6:** Create a new column *StartOfActivePhase* that records the start date of the latest stage for \"Active\" applications\n"
   ]
  },
  {
   "cell_type": "code",
   "execution_count": 10,
   "id": "f46c49d1",
   "metadata": {},
   "outputs": [],
   "source": [
    "# Define a function to find the start date of the latest active phase\n",
    "def find_start_of_active_phase(row):\n",
    "    if row['Record Status'] == 'Active':\n",
    "        latest_date = None\n",
    "        for col in data.columns:\n",
    "            if col != 'StatusID' and data[col].dtype == 'object':  # Skip StatusID and non-date columns\n",
    "                try:\n",
    "                    date = pd.to_datetime(row[col], errors='coerce')\n",
    "                    if not pd.isnull(date) and (latest_date is None or date > latest_date):\n",
    "                        latest_date = date\n",
    "                except:\n",
    "                    continue\n",
    "        return latest_date\n",
    "    return None\n",
    "\n",
    "# Apply the function to determine the 'StartOfActivePhase'\n",
    "data['StartOfActivePhase'] = data.apply(find_start_of_active_phase, axis=1)\n",
    "\n",
    "# Convert 'StartOfActivePhase' to dt.date format\n",
    "data['StartOfActivePhase'] = data['StartOfActivePhase'].apply(lambda x: x.date() if pd.notnull(x) else None)"
   ]
  },
  {
   "cell_type": "markdown",
   "id": "5f54fb06",
   "metadata": {},
   "source": [
    "**Step 7:** Create columns 'Start_HR/Recruiter', 'End_HR/Recruiter', 'Start_HiringManager', 'End_HiringManager', 'Start_Offer', and 'End_Offer' for closed applications"
   ]
  },
  {
   "cell_type": "code",
   "execution_count": 11,
   "id": "262abaf9",
   "metadata": {},
   "outputs": [],
   "source": [
    "# Define a function to find the start and end dates for HR/Recruiter, Hiring Manager, and Offer stages, \n",
    "# and the end date for the Offer stage\n",
    "\n",
    "def find_stage_dates(row):\n",
    "    if row['Record Status'] == 'Closed':\n",
    "        # Initialize variables for the dates\n",
    "        start_hr_recruiter = None\n",
    "        end_hr_recruiter = None\n",
    "        start_hiring_manager = None\n",
    "        end_hiring_manager = None\n",
    "        start_offer = None\n",
    "        end_offer = None\n",
    "        \n",
    "        # Find the earliest date for the HR/Recruiter stage\n",
    "        hr_recruiter_columns = [\n",
    "            'First HR/ Recruiter Review',\n",
    "            'First HR/ Recruiter Review: In Review',\n",
    "            'First HR/ Recruiter Review: Reviewed; Not Selected'\n",
    "        ]\n",
    "        for col in hr_recruiter_columns:\n",
    "            try:\n",
    "                date = pd.to_datetime(row[col], errors='coerce')\n",
    "                if not pd.isnull(date) and (start_hr_recruiter is None or date < start_hr_recruiter):\n",
    "                    start_hr_recruiter = date\n",
    "            except:\n",
    "                continue\n",
    "        \n",
    "        # Find the earliest date for the Hiring Manager stage\n",
    "        hiring_manager_columns = [\n",
    "            'First Hiring Manager Review: Submitted to Hiring Manager',\n",
    "            'First Hiring Manager Review: Interview Requested',\n",
    "            'First Hiring Manager Review: Interviewed; Not Selected'\n",
    "        ]\n",
    "        for col in hiring_manager_columns:\n",
    "            try:\n",
    "                date = pd.to_datetime(row[col], errors='coerce')\n",
    "                if not pd.isnull(date) and (start_hiring_manager is None or date < start_hiring_manager):\n",
    "                    start_hiring_manager = date\n",
    "            except:\n",
    "                continue\n",
    "        \n",
    "        # Set End_HR/Recruiter based on Start_HiringManager or latest date from specified columns\n",
    "        if pd.notnull(start_hr_recruiter):\n",
    "            if pd.notnull(start_hiring_manager):\n",
    "                end_hr_recruiter = start_hiring_manager\n",
    "            else:\n",
    "                end_hr_recruiter_columns = [\n",
    "                    'First HR/ Recruiter Review: Reviewed; Not Selected',\n",
    "                    'First Hired: Hired',\n",
    "                    'First Candidate Withdrew'\n",
    "                ]\n",
    "                for col in end_hr_recruiter_columns:\n",
    "                    try:\n",
    "                        date = pd.to_datetime(row[col], errors='coerce')\n",
    "                        if not pd.isnull(date) and (end_hr_recruiter is None or date > end_hr_recruiter):\n",
    "                            end_hr_recruiter = date\n",
    "                    except:\n",
    "                        continue\n",
    "        \n",
    "        # Find the date for the Offer stage\n",
    "        try:\n",
    "            start_offer = pd.to_datetime(row['First Offer: Offer Extended'], errors='coerce')\n",
    "        except:\n",
    "            start_offer = None\n",
    "        \n",
    "        # Set End_HiringManager based on Start_Offer or latest date from specified columns\n",
    "        if pd.notnull(start_hiring_manager):\n",
    "            if pd.notnull(start_offer):\n",
    "                end_hiring_manager = start_offer\n",
    "            else:\n",
    "                end_hiring_manager_columns = [\n",
    "                    'First Hiring Manager Review: Interviewed; Not Selected',\n",
    "                    'First Hired: Hired',\n",
    "                    'First Candidate Withdrew'\n",
    "                ]\n",
    "                for col in end_hiring_manager_columns:\n",
    "                    try:\n",
    "                        date = pd.to_datetime(row[col], errors='coerce')\n",
    "                        if not pd.isnull(date) and (end_hiring_manager is None or date > end_hiring_manager):\n",
    "                            end_hiring_manager = date\n",
    "                    except:\n",
    "                        continue\n",
    "        \n",
    "        # Find the latest date for the end of the Offer stage, only if 'Start_Offer' is not blank\n",
    "        if pd.notnull(start_offer):\n",
    "            end_offer_columns = [\n",
    "                'First Offer: Offer Accepted',\n",
    "                'First Offer: Offer Declined/Rejected',\n",
    "                'First Offer: Offer Rescinded',\n",
    "                'First Hired: Hired',\n",
    "                'First Candidate Withdrew'\n",
    "            ]\n",
    "            for col in end_offer_columns:\n",
    "                try:\n",
    "                    date = pd.to_datetime(row[col], errors='coerce')\n",
    "                    if not pd.isnull(date) and (end_offer is None or date > end_offer):\n",
    "                        end_offer = date\n",
    "                except:\n",
    "                    continue\n",
    "        \n",
    "        return start_hr_recruiter, end_hr_recruiter, start_hiring_manager, end_hiring_manager, start_offer, end_offer\n",
    "    return None, None, None, None, None, None\n",
    "\n",
    "# Apply the function to determine the stage dates\n",
    "data[['Start_HR/Recruiter', 'End_HR/Recruiter', 'Start_HiringManager', 'End_HiringManager', 'Start_Offer', 'End_Offer']] = data.apply(\n",
    "    lambda row: pd.Series(find_stage_dates(row)), axis=1\n",
    ")\n",
    "\n",
    "# Convert the stage dates to dt.date format\n",
    "data['Start_HR/Recruiter'] = data['Start_HR/Recruiter'].apply(lambda x: x.date() if pd.notnull(x) else None)\n",
    "data['End_HR/Recruiter'] = data['End_HR/Recruiter'].apply(lambda x: x.date() if pd.notnull(x) else None)\n",
    "data['Start_HiringManager'] = data['Start_HiringManager'].apply(lambda x: x.date() if pd.notnull(x) else None)\n",
    "data['End_HiringManager'] = data['End_HiringManager'].apply(lambda x: x.date() if pd.notnull(x) else None)\n",
    "data['Start_Offer'] = data['Start_Offer'].apply(lambda x: x.date() if pd.notnull(x) else None)\n",
    "data['End_Offer'] = data['End_Offer'].apply(lambda x: x.date() if pd.notnull(x) else None)"
   ]
  },
  {
   "cell_type": "markdown",
   "id": "f502e090",
   "metadata": {},
   "source": [
    "**Step 8:** Expert the processed data to a new CSV file."
   ]
  },
  {
   "cell_type": "code",
   "execution_count": 12,
   "id": "504b929c",
   "metadata": {},
   "outputs": [],
   "source": [
    "# Save the processed data to a new CSV file\n",
    "data.to_csv('Processed_Recruiting_Data.csv', index=False)"
   ]
  },
  {
   "cell_type": "code",
   "execution_count": 13,
   "id": "a7f9b589",
   "metadata": {},
   "outputs": [],
   "source": [
    "# Separate Active and Closed applications\n",
    "active_data = data[data['Record Status'] == 'Active']\n",
    "closed_data = data[data['Record Status'] == 'Closed']"
   ]
  },
  {
   "cell_type": "code",
   "execution_count": 14,
   "id": "123f5d22",
   "metadata": {},
   "outputs": [],
   "source": [
    "# Save the Active applications\n",
    "active_data.to_csv('Processed_Active_Applications.csv', index=False)\n",
    "# Save the Closed applications\n",
    "closed_data.to_csv('Processed_Closed_Applications.csv', index=False)"
   ]
  },
  {
   "cell_type": "code",
   "execution_count": null,
   "id": "6fe19d74",
   "metadata": {},
   "outputs": [],
   "source": []
  }
 ],
 "metadata": {
  "kernelspec": {
   "display_name": "Python 3 (ipykernel)",
   "language": "python",
   "name": "python3"
  },
  "language_info": {
   "codemirror_mode": {
    "name": "ipython",
    "version": 3
   },
   "file_extension": ".py",
   "mimetype": "text/x-python",
   "name": "python",
   "nbconvert_exporter": "python",
   "pygments_lexer": "ipython3",
   "version": "3.9.13"
  }
 },
 "nbformat": 4,
 "nbformat_minor": 5
}
